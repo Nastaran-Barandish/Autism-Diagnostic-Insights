{
 "cells": [
  {
   "cell_type": "markdown",
   "id": "db9a88f7-7461-4b8b-9e5d-17e578d61004",
   "metadata": {},
   "source": [
    "### Importing Libraries"
   ]
  },
  {
   "cell_type": "code",
   "execution_count": 15,
   "id": "649473f0-2da0-4e9f-a732-ed228fd68c44",
   "metadata": {},
   "outputs": [],
   "source": [
    "import pandas as pd\n",
    "import numpy as np\n",
    "import seaborn as sns\n",
    "import matplotlib.pyplot as plt\n",
    "import matplotlib\n",
    "import os"
   ]
  },
  {
   "cell_type": "code",
   "execution_count": 16,
   "id": "d62d15ce-90ab-43c0-8336-d4ebf3fdd06f",
   "metadata": {},
   "outputs": [],
   "source": [
    "# Path\n",
    "path= r\"C:\\Users\\nabar\\OneDrive\\Documents\\A6 Project\"\n",
    "# Dataframe\n",
    "df=pd.read_csv(os.path.join(path, '02 Data', 'Prepared Data', 'cleaned_dataset.csv'))\n",
    "df1=pd.read_csv(os.path.join(path, '02 Data', 'Original Data', 'Population by Race.csv'))\n"
   ]
  },
  {
   "cell_type": "markdown",
   "id": "3acaae69-0809-44b2-8923-1dee4dbcc532",
   "metadata": {},
   "source": [
    "### Mapping Ethnicity"
   ]
  },
  {
   "cell_type": "code",
   "execution_count": 55,
   "id": "471089e4-1528-4371-8d36-1815541f494e",
   "metadata": {},
   "outputs": [
    {
     "name": "stdout",
     "output_type": "stream",
     "text": [
      "['Others' 'White' 'Hispanic' 'Black' 'Asian' 'South Asian' 'Native Indian'\n",
      " 'Mixed' 'Pacifica']\n"
     ]
    }
   ],
   "source": [
    "\n",
    "print(df[\"Ethnicity\"].unique())"
   ]
  },
  {
   "cell_type": "code",
   "execution_count": 18,
   "id": "c37d8c5e-5703-4d56-bb98-e28cfc64652c",
   "metadata": {},
   "outputs": [],
   "source": [
    "# Standardizing ethnicity labels for consistency\n",
    "mapping_dict = {\n",
    "    \"middle eastern\": \"Middle Eastern\",\n",
    "    \"White European\": \"White\",\n",
    "    \"black\": \"Black\",\n",
    "    \"asian\": \"Asian\",\n",
    "    \"south asian\": \"South Asian\",\n",
    "    \"mixed\": \"Mixed\",\n",
    "    \"PaciFica\": \"Pacifica\"\n",
    "}\n",
    "\n",
    "# Apply mapping to fix inconsistencies\n",
    "df[\"Ethnicity\"] = df[\"Ethnicity\"].replace(mapping_dict)"
   ]
  },
  {
   "cell_type": "code",
   "execution_count": 19,
   "id": "fa4bcb43-d8c3-4281-ba79-d8e79135bad8",
   "metadata": {},
   "outputs": [
    {
     "name": "stdout",
     "output_type": "stream",
     "text": [
      "['Middle Eastern' 'White' 'Hispanic' 'Black' 'Asian' 'South Asian'\n",
      " 'Native Indian' 'Others' 'Latino' 'Mixed' 'Pacifica']\n"
     ]
    }
   ],
   "source": [
    "print(df[\"Ethnicity\"].unique())"
   ]
  },
  {
   "cell_type": "code",
   "execution_count": 20,
   "id": "c04ffdd5-557e-487f-8198-8bea9fd81b39",
   "metadata": {},
   "outputs": [],
   "source": [
    "# Adjusting ethnicity categories\n",
    "mapping_dict = {\n",
    "    \"middle eastern\": \"Others\",  # Merge Middle Eastern into Others\n",
    "    \"Middle Eastern\": \"Others\",\n",
    "    \"Latino\": \"Hispanic\",  # Merge Latino into Hispanic\n",
    "}\n",
    "\n",
    "# Apply mapping\n",
    "df[\"Ethnicity\"] = df[\"Ethnicity\"].replace(mapping_dict)"
   ]
  },
  {
   "cell_type": "markdown",
   "id": "106a243e-0277-4ad6-85c2-2cd0abb7cbd3",
   "metadata": {},
   "source": [
    "### Cleaning Data"
   ]
  },
  {
   "cell_type": "code",
   "execution_count": 21,
   "id": "e2aef1e7-a891-414c-9776-4473be28237f",
   "metadata": {},
   "outputs": [
    {
     "name": "stdout",
     "output_type": "stream",
     "text": [
      "0\n"
     ]
    }
   ],
   "source": [
    "print(df.duplicated().sum())  # Count duplicate entries"
   ]
  },
  {
   "cell_type": "code",
   "execution_count": 22,
   "id": "04114ee0-6fd3-4afe-9521-77823ef5fc6b",
   "metadata": {},
   "outputs": [
    {
     "name": "stdout",
     "output_type": "stream",
     "text": [
      "CASE_NO_PATIENT'S                                     0\n",
      "A1                                                    0\n",
      "A2                                                    0\n",
      "A3                                                    0\n",
      "A4                                                    0\n",
      "A5                                                    0\n",
      "A6                                                    0\n",
      "A7                                                    0\n",
      "A8                                                    0\n",
      "A9                                                    0\n",
      "A10_Autism_Spectrum_Quotient                          0\n",
      "Social_Responsiveness_Scale                           9\n",
      "Age_Years                                             0\n",
      "Qchat_10_Score                                        0\n",
      "Speech Delay/Language Disorder                        0\n",
      "Learning disorder                                     0\n",
      "Genetic_Disorders                                     0\n",
      "Depression                                            0\n",
      "Global developmental delay/intellectual disability    0\n",
      "Social/Behavioural Issues                             0\n",
      "Childhood Autism Rating Scale                         0\n",
      "Anxiety_disorder                                      0\n",
      "Sex                                                   0\n",
      "Ethnicity                                             0\n",
      "Jaundice                                              0\n",
      "Family_mem_with_ASD                                   0\n",
      "Who_completed_the_test                                0\n",
      "ASD_traits                                            0\n",
      "dtype: int64\n"
     ]
    }
   ],
   "source": [
    "print(df.isnull().sum())"
   ]
  },
  {
   "cell_type": "code",
   "execution_count": 23,
   "id": "bd96d9c4-6d7e-4759-93a4-783c47e073e0",
   "metadata": {},
   "outputs": [],
   "source": [
    "# Fill missing values with the median of the column\n",
    "df[\"Social_Responsiveness_Scale\"] = df[\"Social_Responsiveness_Scale\"].fillna(df[\"Social_Responsiveness_Scale\"].median())"
   ]
  },
  {
   "cell_type": "code",
   "execution_count": 24,
   "id": "66c2c1a9-018c-4ada-9459-d5c156b80062",
   "metadata": {},
   "outputs": [
    {
     "name": "stdout",
     "output_type": "stream",
     "text": [
      "CASE_NO_PATIENT'S                                     0\n",
      "A1                                                    0\n",
      "A2                                                    0\n",
      "A3                                                    0\n",
      "A4                                                    0\n",
      "A5                                                    0\n",
      "A6                                                    0\n",
      "A7                                                    0\n",
      "A8                                                    0\n",
      "A9                                                    0\n",
      "A10_Autism_Spectrum_Quotient                          0\n",
      "Social_Responsiveness_Scale                           0\n",
      "Age_Years                                             0\n",
      "Qchat_10_Score                                        0\n",
      "Speech Delay/Language Disorder                        0\n",
      "Learning disorder                                     0\n",
      "Genetic_Disorders                                     0\n",
      "Depression                                            0\n",
      "Global developmental delay/intellectual disability    0\n",
      "Social/Behavioural Issues                             0\n",
      "Childhood Autism Rating Scale                         0\n",
      "Anxiety_disorder                                      0\n",
      "Sex                                                   0\n",
      "Ethnicity                                             0\n",
      "Jaundice                                              0\n",
      "Family_mem_with_ASD                                   0\n",
      "Who_completed_the_test                                0\n",
      "ASD_traits                                            0\n",
      "dtype: int64\n"
     ]
    }
   ],
   "source": [
    "print(df.isnull().sum())"
   ]
  },
  {
   "cell_type": "code",
   "execution_count": 26,
   "id": "1a8cc4da-124b-46e8-ac63-1f0f46ebf1d2",
   "metadata": {},
   "outputs": [
    {
     "name": "stdout",
     "output_type": "stream",
     "text": [
      "Index(['CASE_NO_PATIENT'S', 'A1', 'A2', 'A3', 'A4', 'A5', 'A6', 'A7', 'A8',\n",
      "       'A9', 'A10_Autism_Spectrum_Quotient', 'Social_Responsiveness_Scale',\n",
      "       'Age_Years', 'Qchat_10_Score', 'Speech Delay/Language Disorder',\n",
      "       'Learning disorder', 'Genetic_Disorders', 'Depression',\n",
      "       'Global developmental delay/intellectual disability',\n",
      "       'Social/Behavioural Issues', 'Childhood Autism Rating Scale',\n",
      "       'Anxiety_disorder', 'Sex', 'Ethnicity', 'Jaundice',\n",
      "       'Family_mem_with_ASD', 'Who_completed_the_test', 'ASD_traits'],\n",
      "      dtype='object')\n",
      "Index(['IBRC_Geo_ID', 'State', 'District Name', 'Year', 'Total Population',\n",
      "       'White Alone', 'Black Alone', 'American Indian or Alaskan Native',\n",
      "       'Asian Alone', 'Hawaiian or Pacific Islander Alone',\n",
      "       'Two or More Races', 'Not Hispanic', 'Hispanic'],\n",
      "      dtype='object')\n"
     ]
    }
   ],
   "source": [
    "print(df.columns)  # Check column names in your original dataset\n",
    "print(df1.columns)  # Check column names in the new dataset"
   ]
  },
  {
   "cell_type": "code",
   "execution_count": 33,
   "id": "4e35d268-674c-4e05-9d9d-b5cf2b77ac10",
   "metadata": {},
   "outputs": [
    {
     "name": "stdout",
     "output_type": "stream",
     "text": [
      "0\n"
     ]
    }
   ],
   "source": [
    "print(df1.duplicated().sum())"
   ]
  },
  {
   "cell_type": "code",
   "execution_count": 34,
   "id": "6b2751b1-91c2-4f1a-81d6-fd16a98aac7c",
   "metadata": {},
   "outputs": [
    {
     "name": "stdout",
     "output_type": "stream",
     "text": [
      "IBRC_Geo_ID            0\n",
      "State                  0\n",
      "District Name          0\n",
      "Year                   0\n",
      "Total Population       0\n",
      "White                  0\n",
      "Black                  0\n",
      "American Indian        0\n",
      "Asian                  0\n",
      "Pacifica            3980\n",
      "Mixed               3980\n",
      "Not Hispanic           0\n",
      "Hispanic               0\n",
      "dtype: int64\n"
     ]
    }
   ],
   "source": [
    "print(df1.isnull().sum())"
   ]
  },
  {
   "cell_type": "code",
   "execution_count": 37,
   "id": "5aa2f484-5ed4-4c8f-9467-a7224b2317fe",
   "metadata": {},
   "outputs": [],
   "source": [
    "# Fill with median value of each column\n",
    "\n",
    "df1[\"Pacifica\"] = df1[\"Pacifica\"].fillna(df1[\"Pacifica\"].median())\n",
    "df1[\"Mixed\"] = df1[\"Mixed\"].fillna(df1[\"Mixed\"].median())"
   ]
  },
  {
   "cell_type": "code",
   "execution_count": 39,
   "id": "42c0023c-8da0-4dcf-94cb-25de022b5dff",
   "metadata": {},
   "outputs": [
    {
     "name": "stdout",
     "output_type": "stream",
     "text": [
      "IBRC_Geo_ID         0\n",
      "State               0\n",
      "District Name       0\n",
      "Year                0\n",
      "Total Population    0\n",
      "White               0\n",
      "Black               0\n",
      "American Indian     0\n",
      "Asian               0\n",
      "Pacifica            0\n",
      "Mixed               0\n",
      "Not Hispanic        0\n",
      "Hispanic            0\n",
      "dtype: int64\n"
     ]
    }
   ],
   "source": [
    "print(df1.isnull().sum())"
   ]
  },
  {
   "cell_type": "code",
   "execution_count": 38,
   "id": "bf79a2a2-32da-4ee3-ac1d-fac8217b8b09",
   "metadata": {},
   "outputs": [
    {
     "name": "stdout",
     "output_type": "stream",
     "text": [
      "Empty DataFrame\n",
      "Columns: [IBRC_Geo_ID, State, District Name, Year, Total Population, White, Black, American Indian, Asian, Pacifica, Mixed, Not Hispanic, Hispanic]\n",
      "Index: []\n"
     ]
    }
   ],
   "source": [
    "non_numeric = df1[~df1[\"Mixed\"].apply(lambda x: pd.api.types.is_number(x))]\n",
    "print(non_numeric)"
   ]
  },
  {
   "cell_type": "code",
   "execution_count": 27,
   "id": "a02c8ba8-448e-4a29-8202-0f309cef5a57",
   "metadata": {},
   "outputs": [],
   "source": [
    "# Rename ethnicity columns\n",
    "df1.rename(columns={\n",
    "    \"White Alone\": \"White\",\n",
    "    \"Black Alone\": \"Black\",\n",
    "    \"American Indian or Alaskan Native\": \"American Indian\",\n",
    "    \"Asian Alone\": \"Asian\",\n",
    "    \"Hawaiian or Pacific Islander Alone\": \"Pacifica\",\n",
    "    \"Two or More Races\": \"Mixed\"\n",
    "}, inplace=True)"
   ]
  },
  {
   "cell_type": "code",
   "execution_count": 28,
   "id": "f1e9c388-381e-4853-a212-6aa1fc79e089",
   "metadata": {},
   "outputs": [
    {
     "name": "stdout",
     "output_type": "stream",
     "text": [
      "Index(['IBRC_Geo_ID', 'State', 'District Name', 'Year', 'Total Population',\n",
      "       'White', 'Black', 'American Indian', 'Asian', 'Pacifica', 'Mixed',\n",
      "       'Not Hispanic', 'Hispanic'],\n",
      "      dtype='object')\n"
     ]
    }
   ],
   "source": [
    "print(df1.columns)"
   ]
  },
  {
   "cell_type": "code",
   "execution_count": 29,
   "id": "7598d825-0a98-4b8c-90c7-d1210ae357bd",
   "metadata": {},
   "outputs": [],
   "source": [
    "ethnicity_columns = [\"White\", \"Black\", \"American Indian\", \"Asian\", \"Pacifica\", \"Mixed\", \"Hispanic\"]\n",
    "\n",
    "df_ethnicity_long = df1.melt(\n",
    "    id_vars=[\"State\", \"Total Population\"],\n",
    "    value_vars=ethnicity_columns,\n",
    "    var_name=\"Ethnicity\",\n",
    "    value_name=\"Population\"\n",
    ")"
   ]
  },
  {
   "cell_type": "code",
   "execution_count": 31,
   "id": "d23b4329-52a1-4d0c-97c9-d3aad95b7e82",
   "metadata": {},
   "outputs": [
    {
     "data": {
      "text/plain": [
       "<bound method NDFrame.head of       State  Total Population Ethnicity  Population\n",
       "0        AK             41125     White     37508.0\n",
       "1        AK             42649     White     38893.0\n",
       "2        AK             43496     White     39670.0\n",
       "3        AK             44201     White     40265.0\n",
       "4        AK             45588     White     41435.0\n",
       "...     ...               ...       ...         ...\n",
       "83575    CT            944943  Hispanic    178438.0\n",
       "83576    CT            944347  Hispanic    182054.0\n",
       "83577    CT            943038  Hispanic    185617.0\n",
       "83578    CT            943971  Hispanic    190098.0\n",
       "83579    CT            943332  Hispanic    193772.0\n",
       "\n",
       "[83580 rows x 4 columns]>"
      ]
     },
     "execution_count": 31,
     "metadata": {},
     "output_type": "execute_result"
    }
   ],
   "source": [
    "df_ethnicity_long.head"
   ]
  },
  {
   "cell_type": "markdown",
   "id": "43356d7a-f9c2-41bd-b60a-fa987d964a29",
   "metadata": {},
   "source": [
    "###  ASD Trait Rates Per Ethnicity"
   ]
  },
  {
   "cell_type": "code",
   "execution_count": 40,
   "id": "1e915903-81de-4bf9-bd79-73ea1f1de76f",
   "metadata": {},
   "outputs": [],
   "source": [
    "# Count occurrences of ASD traits (0 and 1) per ethnicity\n",
    "asd_counts = df.groupby(\"Ethnicity\")[\"ASD_traits\"].value_counts().unstack().fillna(0)\n",
    "\n",
    "# Rename columns for clarity \n",
    "asd_counts.columns = [\"No_ASD_Traits\", \"Has_ASD_Traits\"]\n",
    "\n",
    "# Reset index to flatten the DataFrame\n",
    "asd_counts.reset_index(inplace=True)"
   ]
  },
  {
   "cell_type": "code",
   "execution_count": 41,
   "id": "76117848-3a14-4375-aeb4-6cb59837bf8e",
   "metadata": {},
   "outputs": [],
   "source": [
    "# Calculate ASD trait rate as a percentage\n",
    "asd_counts[\"ASD Rate\"] = asd_counts[\"Has_ASD_Traits\"] / (asd_counts[\"Has_ASD_Traits\"] + asd_counts[\"No_ASD_Traits\"])"
   ]
  },
  {
   "cell_type": "code",
   "execution_count": 43,
   "id": "32841708-e456-4672-9ccc-305d4665a13c",
   "metadata": {},
   "outputs": [],
   "source": [
    "# percentage \n",
    "asd_counts[\"ASD Rate (%)\"] = asd_counts[\"ASD Rate\"] * 100"
   ]
  },
  {
   "cell_type": "code",
   "execution_count": 45,
   "id": "746624b4-403c-48b5-9a96-c57b435c677a",
   "metadata": {},
   "outputs": [
    {
     "name": "stdout",
     "output_type": "stream",
     "text": [
      "       Ethnicity  No_ASD_Traits  Has_ASD_Traits  ASD Rate  ASD Rate (%)\n",
      "0          Asian          262.0           343.0  0.566942     56.694215\n",
      "1          Black           14.0            39.0  0.735849     73.584906\n",
      "2       Hispanic           16.0            50.0  0.757576     75.757576\n",
      "3          Mixed            3.0             5.0  0.625000     62.500000\n",
      "4  Native Indian            0.0             3.0  1.000000    100.000000\n",
      "5         Others          313.0           125.0  0.285388     28.538813\n",
      "6       Pacifica            1.0             7.0  0.875000     87.500000\n",
      "7    South Asian          218.0            37.0  0.145098     14.509804\n",
      "8          White           84.0           465.0  0.846995     84.699454\n"
     ]
    }
   ],
   "source": [
    "# Check the output\n",
    "print(asd_counts)"
   ]
  },
  {
   "cell_type": "code",
   "execution_count": 46,
   "id": "b53fe3f9-9a45-43b1-aa3b-3b3e9becd172",
   "metadata": {},
   "outputs": [
    {
     "name": "stdout",
     "output_type": "stream",
     "text": [
      "  Ethnicity  No_ASD_Traits  Has_ASD_Traits  ASD Rate  ASD Rate (%)\n",
      "2  Hispanic           16.0            50.0  0.757576     75.757576\n"
     ]
    }
   ],
   "source": [
    "print(asd_counts[asd_counts[\"Ethnicity\"] == \"Hispanic\"])  # Check Hispanic ASD rate"
   ]
  },
  {
   "cell_type": "code",
   "execution_count": 47,
   "id": "943393ba-f860-4467-a201-ff12b094b55d",
   "metadata": {},
   "outputs": [
    {
     "name": "stdout",
     "output_type": "stream",
     "text": [
      "Ethnicity         0\n",
      "No_ASD_Traits     0\n",
      "Has_ASD_Traits    0\n",
      "ASD Rate          0\n",
      "ASD Rate (%)      0\n",
      "dtype: int64\n"
     ]
    }
   ],
   "source": [
    "print(asd_counts.isnull().sum())  # See if any ethnicity has missing ASD rate"
   ]
  },
  {
   "cell_type": "markdown",
   "id": "311781b2-05a5-4c10-b75d-93b60c0b38f2",
   "metadata": {},
   "source": [
    "### Merge ASD Trait Rates with Population Data"
   ]
  },
  {
   "cell_type": "code",
   "execution_count": 49,
   "id": "99b5cff9-be23-4e09-a6cc-7c0c5c525ccd",
   "metadata": {},
   "outputs": [],
   "source": [
    "choropleth_df = df_ethnicity_long.merge(\n",
    "    asd_counts[[\"Ethnicity\", \"ASD Rate\"]],\n",
    "    on=\"Ethnicity\",\n",
    "    how=\"left\"\n",
    ")"
   ]
  },
  {
   "cell_type": "code",
   "execution_count": 50,
   "id": "207066b3-8496-4e7f-aaee-2ceca09c5419",
   "metadata": {},
   "outputs": [],
   "source": [
    "# Compute Estimated ASD Cases per State\n",
    "choropleth_df[\"Estimated ASD Cases\"] = (\n",
    "    choropleth_df[\"Population\"] * choropleth_df[\"ASD Rate\"]\n",
    ")"
   ]
  },
  {
   "cell_type": "code",
   "execution_count": 53,
   "id": "d96220b2-ab36-4908-a7ab-dea68d55c950",
   "metadata": {},
   "outputs": [],
   "source": [
    "# save the dataframes\n",
    "df1.to_csv(os.path.join(path, '02 Data', 'Prepared Data', 'cleaned_population_data.csv'), index=False)\n",
    "asd_counts.to_csv(os.path.join(path, '02 Data', 'Prepared Data', 'asd_trait_rates.csv'), index=False)\n",
    "choropleth_df.to_csv(os.path.join(path, '02 Data', 'Prepared Data', 'choropleth_ready_data.csv'), index=False)"
   ]
  },
  {
   "cell_type": "code",
   "execution_count": null,
   "id": "a94b6001-c4e5-442b-813c-2360846d11d7",
   "metadata": {},
   "outputs": [],
   "source": []
  },
  {
   "cell_type": "code",
   "execution_count": null,
   "id": "31d68131-ecb4-402d-b98d-c8dccf79d3df",
   "metadata": {},
   "outputs": [],
   "source": []
  },
  {
   "cell_type": "code",
   "execution_count": null,
   "id": "c6f62c70-c894-4dcc-b631-c62927da0cd1",
   "metadata": {},
   "outputs": [],
   "source": []
  },
  {
   "cell_type": "code",
   "execution_count": null,
   "id": "bc516aab-9148-443d-a121-0bec184613f0",
   "metadata": {},
   "outputs": [],
   "source": []
  }
 ],
 "metadata": {
  "kernelspec": {
   "display_name": "Python [conda env:base] *",
   "language": "python",
   "name": "conda-base-py"
  },
  "language_info": {
   "codemirror_mode": {
    "name": "ipython",
    "version": 3
   },
   "file_extension": ".py",
   "mimetype": "text/x-python",
   "name": "python",
   "nbconvert_exporter": "python",
   "pygments_lexer": "ipython3",
   "version": "3.12.7"
  }
 },
 "nbformat": 4,
 "nbformat_minor": 5
}
