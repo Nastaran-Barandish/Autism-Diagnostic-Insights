{
 "cells": [
  {
   "cell_type": "markdown",
   "id": "b79cc497-9b4a-4788-8301-8540846ca5ac",
   "metadata": {},
   "source": [
    "### Import Libraries"
   ]
  },
  {
   "cell_type": "code",
   "execution_count": 242,
   "id": "a9dc4253-f26e-47e0-b85b-991cde1c4e90",
   "metadata": {},
   "outputs": [],
   "source": [
    "import pandas as pd\n",
    "import numpy as np\n",
    "import os"
   ]
  },
  {
   "cell_type": "markdown",
   "id": "96afae5e-0746-4d78-838c-86862389fbd7",
   "metadata": {},
   "source": [
    "### Import Data"
   ]
  },
  {
   "cell_type": "code",
   "execution_count": 244,
   "id": "ca328632-c729-48d7-a42b-5ac012f375ca",
   "metadata": {},
   "outputs": [],
   "source": [
    "# Path\n",
    "Path= r\"C:\\Users\\nabar\\OneDrive\\Documents\\A6 Project\"\n",
    "# df\n",
    "df = pd.read_csv(os.path.join(Path, '02 Data', 'Original Data', 'cleaned_dataset00.csv'))"
   ]
  },
  {
   "cell_type": "code",
   "execution_count": 245,
   "id": "2d6d7263-25c6-4c32-b52d-6b94112672ed",
   "metadata": {},
   "outputs": [
    {
     "name": "stdout",
     "output_type": "stream",
     "text": [
      "<class 'pandas.core.frame.DataFrame'>\n",
      "RangeIndex: 1985 entries, 0 to 1984\n",
      "Data columns (total 28 columns):\n",
      " #   Column                                              Non-Null Count  Dtype  \n",
      "---  ------                                              --------------  -----  \n",
      " 0   CASE_NO_PATIENT'S                                   1985 non-null   int64  \n",
      " 1   A1                                                  1985 non-null   int64  \n",
      " 2   A2                                                  1985 non-null   int64  \n",
      " 3   A3                                                  1985 non-null   int64  \n",
      " 4   A4                                                  1985 non-null   int64  \n",
      " 5   A5                                                  1985 non-null   int64  \n",
      " 6   A6                                                  1985 non-null   int64  \n",
      " 7   A7                                                  1985 non-null   int64  \n",
      " 8   A8                                                  1985 non-null   int64  \n",
      " 9   A9                                                  1985 non-null   int64  \n",
      " 10  A10_Autism_Spectrum_Quotient                        1985 non-null   int64  \n",
      " 11  Social_Responsiveness_Scale                         1976 non-null   float64\n",
      " 12  Age_Years                                           1985 non-null   int64  \n",
      " 13  Qchat_10_Score                                      1985 non-null   float64\n",
      " 14  Speech Delay/Language Disorder                      1985 non-null   object \n",
      " 15  Learning disorder                                   1985 non-null   object \n",
      " 16  Genetic_Disorders                                   1985 non-null   object \n",
      " 17  Depression                                          1984 non-null   object \n",
      " 18  Global developmental delay/intellectual disability  1985 non-null   object \n",
      " 19  Social/Behavioural Issues                           1971 non-null   object \n",
      " 20  Childhood Autism Rating Scale                       1985 non-null   int64  \n",
      " 21  Anxiety_disorder                                    1985 non-null   object \n",
      " 22  Sex                                                 1985 non-null   object \n",
      " 23  Ethnicity                                           1985 non-null   object \n",
      " 24  Jaundice                                            1985 non-null   object \n",
      " 25  Family_mem_with_ASD                                 1985 non-null   object \n",
      " 26  Who_completed_the_test                              1985 non-null   object \n",
      " 27  ASD_traits                                          1985 non-null   int64  \n",
      "dtypes: float64(2), int64(14), object(12)\n",
      "memory usage: 434.3+ KB\n",
      "None\n"
     ]
    }
   ],
   "source": [
    "# Check the structure and data types\n",
    "print(df.info())"
   ]
  },
  {
   "cell_type": "markdown",
   "id": "39794e9d-d917-49f8-b79d-2b34e6ad6f89",
   "metadata": {},
   "source": [
    "### Check for Missing Value"
   ]
  },
  {
   "cell_type": "code",
   "execution_count": 247,
   "id": "5a0f51ff-eb77-4293-8e9b-9a459098944c",
   "metadata": {},
   "outputs": [
    {
     "name": "stdout",
     "output_type": "stream",
     "text": [
      "CASE_NO_PATIENT'S                                      0\n",
      "A1                                                     0\n",
      "A2                                                     0\n",
      "A3                                                     0\n",
      "A4                                                     0\n",
      "A5                                                     0\n",
      "A6                                                     0\n",
      "A7                                                     0\n",
      "A8                                                     0\n",
      "A9                                                     0\n",
      "A10_Autism_Spectrum_Quotient                           0\n",
      "Social_Responsiveness_Scale                            9\n",
      "Age_Years                                              0\n",
      "Qchat_10_Score                                         0\n",
      "Speech Delay/Language Disorder                         0\n",
      "Learning disorder                                      0\n",
      "Genetic_Disorders                                      0\n",
      "Depression                                             1\n",
      "Global developmental delay/intellectual disability     0\n",
      "Social/Behavioural Issues                             14\n",
      "Childhood Autism Rating Scale                          0\n",
      "Anxiety_disorder                                       0\n",
      "Sex                                                    0\n",
      "Ethnicity                                              0\n",
      "Jaundice                                               0\n",
      "Family_mem_with_ASD                                    0\n",
      "Who_completed_the_test                                 0\n",
      "ASD_traits                                             0\n",
      "dtype: int64\n"
     ]
    }
   ],
   "source": [
    "# Check for missing values\n",
    "miss_values = df.isnull().sum()\n",
    "print(miss_values)"
   ]
  },
  {
   "cell_type": "markdown",
   "id": "96033dc5-edb7-4da0-8eb8-a013339f1bcc",
   "metadata": {},
   "source": [
    "#### Observation: \n",
    "Social/Behavioural Issues has 14, Qchat_10_Score has 39, Depression has 1 and Social_Responsiveness_Scale 9 missing values."
   ]
  },
  {
   "cell_type": "code",
   "execution_count": 249,
   "id": "0db81632-05d3-42f9-ae58-56e17c0263b0",
   "metadata": {},
   "outputs": [],
   "source": [
    "# Filling Numeric missing values by median in column Qchat_10_Score\n",
    "columns_to_fill = ['Qchat_10_Score']  \n",
    "for col in columns_to_fill:\n",
    "    if df[col].isnull().sum() > 0:  # Check if the column has missing values\n",
    "        df[col] = df[col].fillna(df[col].median())  # Replace only missing values"
   ]
  },
  {
   "cell_type": "code",
   "execution_count": 250,
   "id": "4ac05e74-470f-4519-9dcc-7142dc3a82b6",
   "metadata": {},
   "outputs": [],
   "source": [
    "# Filling Missing Value in Social/Behavioural Issues and Depression\n",
    "df.loc[df['Social/Behavioural Issues'].isnull(), 'Social/Behavioural Issues'] = \"N/A\"\n",
    "df.loc[df['Depression'].isnull(), 'Depression'] = \"N/A\""
   ]
  },
  {
   "cell_type": "code",
   "execution_count": 251,
   "id": "77877a93-714b-400a-98d0-f258dabe6fbb",
   "metadata": {},
   "outputs": [],
   "source": [
    "# Filling Missing Value in Social_Responsiveness_Scale\n",
    "df['Social_Responsiveness_Scale'] = df['Social_Responsiveness_Scale'].astype('object')\n",
    "df.loc[df['Social_Responsiveness_Scale'].isnull(), 'Social_Responsiveness_Scale'] = \"N/A\""
   ]
  },
  {
   "cell_type": "code",
   "execution_count": 252,
   "id": "7e164907-f313-42a0-938a-0e0d93bb5f89",
   "metadata": {},
   "outputs": [
    {
     "name": "stdout",
     "output_type": "stream",
     "text": [
      "CASE_NO_PATIENT'S                                     0\n",
      "A1                                                    0\n",
      "A2                                                    0\n",
      "A3                                                    0\n",
      "A4                                                    0\n",
      "A5                                                    0\n",
      "A6                                                    0\n",
      "A7                                                    0\n",
      "A8                                                    0\n",
      "A9                                                    0\n",
      "A10_Autism_Spectrum_Quotient                          0\n",
      "Social_Responsiveness_Scale                           0\n",
      "Age_Years                                             0\n",
      "Qchat_10_Score                                        0\n",
      "Speech Delay/Language Disorder                        0\n",
      "Learning disorder                                     0\n",
      "Genetic_Disorders                                     0\n",
      "Depression                                            0\n",
      "Global developmental delay/intellectual disability    0\n",
      "Social/Behavioural Issues                             0\n",
      "Childhood Autism Rating Scale                         0\n",
      "Anxiety_disorder                                      0\n",
      "Sex                                                   0\n",
      "Ethnicity                                             0\n",
      "Jaundice                                              0\n",
      "Family_mem_with_ASD                                   0\n",
      "Who_completed_the_test                                0\n",
      "ASD_traits                                            0\n",
      "dtype: int64\n"
     ]
    }
   ],
   "source": [
    "miss_values = df.isnull().sum()\n",
    "print(miss_values)"
   ]
  },
  {
   "cell_type": "markdown",
   "id": "a4606abe-609a-4a18-bd7e-1aafca66f7c9",
   "metadata": {},
   "source": [
    "### Check for Duplicate Values\n"
   ]
  },
  {
   "cell_type": "code",
   "execution_count": 254,
   "id": "acbf5acb-5fd6-4348-ad1c-c9d47957d606",
   "metadata": {},
   "outputs": [
    {
     "name": "stdout",
     "output_type": "stream",
     "text": [
      "Empty DataFrame\n",
      "Columns: [CASE_NO_PATIENT'S, A1, A2, A3, A4, A5, A6, A7, A8, A9, A10_Autism_Spectrum_Quotient, Social_Responsiveness_Scale, Age_Years, Qchat_10_Score, Speech Delay/Language Disorder, Learning disorder, Genetic_Disorders, Depression, Global developmental delay/intellectual disability, Social/Behavioural Issues, Childhood Autism Rating Scale, Anxiety_disorder, Sex, Ethnicity, Jaundice, Family_mem_with_ASD, Who_completed_the_test, ASD_traits]\n",
      "Index: []\n",
      "\n",
      "[0 rows x 28 columns]\n"
     ]
    }
   ],
   "source": [
    "duplicates = df[df.duplicated()]\n",
    "print(duplicates)  # Displays duplicate rows"
   ]
  },
  {
   "cell_type": "markdown",
   "id": "165a0319-1cc6-4fb4-9d75-18bbfdf170a8",
   "metadata": {},
   "source": [
    "### Obsevation:\n",
    "There is no duplicate value."
   ]
  },
  {
   "cell_type": "markdown",
   "id": "885f036d-7010-408e-ad1b-853cc88159f2",
   "metadata": {},
   "source": [
    "### Coverting Yes and No to 1 and 0"
   ]
  },
  {
   "cell_type": "markdown",
   "id": "98cd9c3f-0267-4a11-a0c4-48c558232326",
   "metadata": {},
   "source": [
    "#### ASD_traits Column Issue"
   ]
  },
  {
   "cell_type": "code",
   "execution_count": 258,
   "id": "20217afa-fc53-42bf-9195-823cab5164ab",
   "metadata": {},
   "outputs": [],
   "source": [
    "# Coverting Yes and No in ASD_traits to 1 and 0\n",
    "df['ASD_traits'] = df['ASD_traits'].map({'Yes': 1, 'No': 0})"
   ]
  },
  {
   "cell_type": "code",
   "execution_count": 259,
   "id": "2a7c1dbc-76dc-4d20-89b6-69adc315387a",
   "metadata": {},
   "outputs": [
    {
     "name": "stdout",
     "output_type": "stream",
     "text": [
      "ASD_traits\n",
      "NaN    1985\n",
      "Name: count, dtype: int64\n"
     ]
    }
   ],
   "source": [
    "print(df['ASD_traits'].value_counts(dropna=False))  # Check existing values"
   ]
  },
  {
   "cell_type": "code",
   "execution_count": 260,
   "id": "0de3d9cc-3240-4941-b0ac-3b35d9306ed5",
   "metadata": {},
   "outputs": [],
   "source": [
    "df = pd.read_csv(os.path.join(Path, '02 Data', 'Original Data', 'cleaned_dataset00.csv'))"
   ]
  },
  {
   "cell_type": "code",
   "execution_count": 261,
   "id": "cbaad57a-4f4d-4aa1-89a5-f9a1126ee765",
   "metadata": {},
   "outputs": [],
   "source": [
    "df['ASD_traits'] = df['ASD_traits'].replace({'Yes': 1, 'No': 0})"
   ]
  },
  {
   "cell_type": "code",
   "execution_count": 262,
   "id": "217d8289-822e-44a4-9eb4-1e953292181e",
   "metadata": {},
   "outputs": [
    {
     "name": "stdout",
     "output_type": "stream",
     "text": [
      "ASD_traits\n",
      "1    1074\n",
      "0     911\n",
      "Name: count, dtype: int64\n"
     ]
    }
   ],
   "source": [
    "print(df['ASD_traits'].value_counts())"
   ]
  },
  {
   "cell_type": "code",
   "execution_count": 263,
   "id": "4e93a9f0-1723-4586-bb47-de77ef3cc2db",
   "metadata": {},
   "outputs": [
    {
     "name": "stderr",
     "output_type": "stream",
     "text": [
      "C:\\Users\\nabar\\AppData\\Local\\Temp\\ipykernel_26112\\923980823.py:1: FutureWarning: Downcasting behavior in `replace` is deprecated and will be removed in a future version. To retain the old behavior, explicitly call `result.infer_objects(copy=False)`. To opt-in to the future behavior, set `pd.set_option('future.no_silent_downcasting', True)`\n",
      "  df[columns_to_convert] = df[columns_to_convert].replace({\"Yes\": 1, \"No\": 0}).fillna(0).astype(int)\n"
     ]
    }
   ],
   "source": [
    "df[columns_to_convert] = df[columns_to_convert].replace({\"Yes\": 1, \"No\": 0}).fillna(0).astype(int)"
   ]
  },
  {
   "cell_type": "markdown",
   "id": "4b243127-8639-4f79-9e84-10b12888f01e",
   "metadata": {},
   "source": [
    "#### Columns to Covert"
   ]
  },
  {
   "cell_type": "code",
   "execution_count": 265,
   "id": "fb42d8ca-6aab-4c26-ba72-ad9eda5de398",
   "metadata": {},
   "outputs": [],
   "source": [
    "columns_to_convert = [\n",
    "    \"Speech Delay/Language Disorder\",\n",
    "    \"Learning disorder\",\n",
    "    \"Genetic_Disorders\",\n",
    "    \"Depression\",\n",
    "    \"Global developmental delay/intellectual disability\",\n",
    "    \"Social/Behavioural Issues\",\n",
    "    \"Jaundice\",\"Family_mem_with_ASD\",\"Anxiety_disorder\"\n",
    "]\n",
    "\n",
    "df[columns_to_convert] = df[columns_to_convert].replace({\"Yes\": 1, \"No\": 0})"
   ]
  },
  {
   "cell_type": "code",
   "execution_count": 266,
   "id": "cd9eefcf-6eb3-489d-8066-4f05feea45c8",
   "metadata": {},
   "outputs": [],
   "source": [
    "df[columns_to_convert] = df[columns_to_convert].replace({\"Yes\": 1, \"No\": 0}).infer_objects(copy=False).astype(int)"
   ]
  },
  {
   "cell_type": "code",
   "execution_count": 267,
   "id": "575ddd8a-4942-49c1-940e-966a75189ad8",
   "metadata": {},
   "outputs": [
    {
     "name": "stdout",
     "output_type": "stream",
     "text": [
      "CASE_NO_PATIENT'S                                       int64\n",
      "A1                                                      int64\n",
      "A2                                                      int64\n",
      "A3                                                      int64\n",
      "A4                                                      int64\n",
      "A5                                                      int64\n",
      "A6                                                      int64\n",
      "A7                                                      int64\n",
      "A8                                                      int64\n",
      "A9                                                      int64\n",
      "A10_Autism_Spectrum_Quotient                            int64\n",
      "Social_Responsiveness_Scale                           float64\n",
      "Age_Years                                               int64\n",
      "Qchat_10_Score                                        float64\n",
      "Speech Delay/Language Disorder                          int32\n",
      "Learning disorder                                       int32\n",
      "Genetic_Disorders                                       int32\n",
      "Depression                                              int32\n",
      "Global developmental delay/intellectual disability      int32\n",
      "Social/Behavioural Issues                               int32\n",
      "Childhood Autism Rating Scale                           int64\n",
      "Anxiety_disorder                                        int32\n",
      "Sex                                                    object\n",
      "Ethnicity                                              object\n",
      "Jaundice                                                int32\n",
      "Family_mem_with_ASD                                     int32\n",
      "Who_completed_the_test                                 object\n",
      "ASD_traits                                              int64\n",
      "dtype: object\n"
     ]
    }
   ],
   "source": [
    "# Lists the data types of all columns\n",
    "print(df.dtypes) "
   ]
  },
  {
   "cell_type": "markdown",
   "id": "1050fc6c-7f38-48d9-b3f2-16267fadd35d",
   "metadata": {},
   "source": [
    "### Descriptive Statistics"
   ]
  },
  {
   "cell_type": "code",
   "execution_count": 269,
   "id": "9d207e76-c9a7-40e2-9139-3da452659345",
   "metadata": {},
   "outputs": [
    {
     "data": {
      "text/html": [
       "<div>\n",
       "<style scoped>\n",
       "    .dataframe tbody tr th:only-of-type {\n",
       "        vertical-align: middle;\n",
       "    }\n",
       "\n",
       "    .dataframe tbody tr th {\n",
       "        vertical-align: top;\n",
       "    }\n",
       "\n",
       "    .dataframe thead th {\n",
       "        text-align: right;\n",
       "    }\n",
       "</style>\n",
       "<table border=\"1\" class=\"dataframe\">\n",
       "  <thead>\n",
       "    <tr style=\"text-align: right;\">\n",
       "      <th></th>\n",
       "      <th>CASE_NO_PATIENT'S</th>\n",
       "      <th>A1</th>\n",
       "      <th>A2</th>\n",
       "      <th>A3</th>\n",
       "      <th>A4</th>\n",
       "      <th>A5</th>\n",
       "      <th>A6</th>\n",
       "      <th>A7</th>\n",
       "      <th>A8</th>\n",
       "      <th>A9</th>\n",
       "      <th>...</th>\n",
       "      <th>Learning disorder</th>\n",
       "      <th>Genetic_Disorders</th>\n",
       "      <th>Depression</th>\n",
       "      <th>Global developmental delay/intellectual disability</th>\n",
       "      <th>Social/Behavioural Issues</th>\n",
       "      <th>Childhood Autism Rating Scale</th>\n",
       "      <th>Anxiety_disorder</th>\n",
       "      <th>Jaundice</th>\n",
       "      <th>Family_mem_with_ASD</th>\n",
       "      <th>ASD_traits</th>\n",
       "    </tr>\n",
       "  </thead>\n",
       "  <tbody>\n",
       "    <tr>\n",
       "      <th>count</th>\n",
       "      <td>1985.000000</td>\n",
       "      <td>1985.000000</td>\n",
       "      <td>1985.000000</td>\n",
       "      <td>1985.000000</td>\n",
       "      <td>1985.000000</td>\n",
       "      <td>1985.000000</td>\n",
       "      <td>1985.000000</td>\n",
       "      <td>1985.000000</td>\n",
       "      <td>1985.000000</td>\n",
       "      <td>1985.000000</td>\n",
       "      <td>...</td>\n",
       "      <td>1985.000000</td>\n",
       "      <td>1985.000000</td>\n",
       "      <td>1985.000000</td>\n",
       "      <td>1985.000000</td>\n",
       "      <td>1985.000000</td>\n",
       "      <td>1985.000000</td>\n",
       "      <td>1985.000000</td>\n",
       "      <td>1985.000000</td>\n",
       "      <td>1985.000000</td>\n",
       "      <td>1985.000000</td>\n",
       "    </tr>\n",
       "    <tr>\n",
       "      <th>mean</th>\n",
       "      <td>993.000000</td>\n",
       "      <td>0.299244</td>\n",
       "      <td>0.238287</td>\n",
       "      <td>0.213098</td>\n",
       "      <td>0.272040</td>\n",
       "      <td>0.278589</td>\n",
       "      <td>0.306297</td>\n",
       "      <td>0.345088</td>\n",
       "      <td>0.243829</td>\n",
       "      <td>0.259950</td>\n",
       "      <td>...</td>\n",
       "      <td>0.541562</td>\n",
       "      <td>0.510327</td>\n",
       "      <td>0.530982</td>\n",
       "      <td>0.530982</td>\n",
       "      <td>0.523929</td>\n",
       "      <td>1.701763</td>\n",
       "      <td>0.529471</td>\n",
       "      <td>0.773804</td>\n",
       "      <td>0.329975</td>\n",
       "      <td>0.541058</td>\n",
       "    </tr>\n",
       "    <tr>\n",
       "      <th>std</th>\n",
       "      <td>573.164462</td>\n",
       "      <td>0.458042</td>\n",
       "      <td>0.426143</td>\n",
       "      <td>0.409600</td>\n",
       "      <td>0.445123</td>\n",
       "      <td>0.448418</td>\n",
       "      <td>0.461071</td>\n",
       "      <td>0.475517</td>\n",
       "      <td>0.429499</td>\n",
       "      <td>0.438717</td>\n",
       "      <td>...</td>\n",
       "      <td>0.498395</td>\n",
       "      <td>0.500019</td>\n",
       "      <td>0.499165</td>\n",
       "      <td>0.499165</td>\n",
       "      <td>0.499553</td>\n",
       "      <td>1.015367</td>\n",
       "      <td>0.499256</td>\n",
       "      <td>0.418473</td>\n",
       "      <td>0.470322</td>\n",
       "      <td>0.498437</td>\n",
       "    </tr>\n",
       "    <tr>\n",
       "      <th>min</th>\n",
       "      <td>1.000000</td>\n",
       "      <td>0.000000</td>\n",
       "      <td>0.000000</td>\n",
       "      <td>0.000000</td>\n",
       "      <td>0.000000</td>\n",
       "      <td>0.000000</td>\n",
       "      <td>0.000000</td>\n",
       "      <td>0.000000</td>\n",
       "      <td>0.000000</td>\n",
       "      <td>0.000000</td>\n",
       "      <td>...</td>\n",
       "      <td>0.000000</td>\n",
       "      <td>0.000000</td>\n",
       "      <td>0.000000</td>\n",
       "      <td>0.000000</td>\n",
       "      <td>0.000000</td>\n",
       "      <td>1.000000</td>\n",
       "      <td>0.000000</td>\n",
       "      <td>0.000000</td>\n",
       "      <td>0.000000</td>\n",
       "      <td>0.000000</td>\n",
       "    </tr>\n",
       "    <tr>\n",
       "      <th>25%</th>\n",
       "      <td>497.000000</td>\n",
       "      <td>0.000000</td>\n",
       "      <td>0.000000</td>\n",
       "      <td>0.000000</td>\n",
       "      <td>0.000000</td>\n",
       "      <td>0.000000</td>\n",
       "      <td>0.000000</td>\n",
       "      <td>0.000000</td>\n",
       "      <td>0.000000</td>\n",
       "      <td>0.000000</td>\n",
       "      <td>...</td>\n",
       "      <td>0.000000</td>\n",
       "      <td>0.000000</td>\n",
       "      <td>0.000000</td>\n",
       "      <td>0.000000</td>\n",
       "      <td>0.000000</td>\n",
       "      <td>1.000000</td>\n",
       "      <td>0.000000</td>\n",
       "      <td>1.000000</td>\n",
       "      <td>0.000000</td>\n",
       "      <td>0.000000</td>\n",
       "    </tr>\n",
       "    <tr>\n",
       "      <th>50%</th>\n",
       "      <td>993.000000</td>\n",
       "      <td>0.000000</td>\n",
       "      <td>0.000000</td>\n",
       "      <td>0.000000</td>\n",
       "      <td>0.000000</td>\n",
       "      <td>0.000000</td>\n",
       "      <td>0.000000</td>\n",
       "      <td>0.000000</td>\n",
       "      <td>0.000000</td>\n",
       "      <td>0.000000</td>\n",
       "      <td>...</td>\n",
       "      <td>1.000000</td>\n",
       "      <td>1.000000</td>\n",
       "      <td>1.000000</td>\n",
       "      <td>1.000000</td>\n",
       "      <td>1.000000</td>\n",
       "      <td>1.000000</td>\n",
       "      <td>1.000000</td>\n",
       "      <td>1.000000</td>\n",
       "      <td>0.000000</td>\n",
       "      <td>1.000000</td>\n",
       "    </tr>\n",
       "    <tr>\n",
       "      <th>75%</th>\n",
       "      <td>1489.000000</td>\n",
       "      <td>1.000000</td>\n",
       "      <td>0.000000</td>\n",
       "      <td>0.000000</td>\n",
       "      <td>1.000000</td>\n",
       "      <td>1.000000</td>\n",
       "      <td>1.000000</td>\n",
       "      <td>1.000000</td>\n",
       "      <td>0.000000</td>\n",
       "      <td>1.000000</td>\n",
       "      <td>...</td>\n",
       "      <td>1.000000</td>\n",
       "      <td>1.000000</td>\n",
       "      <td>1.000000</td>\n",
       "      <td>1.000000</td>\n",
       "      <td>1.000000</td>\n",
       "      <td>2.000000</td>\n",
       "      <td>1.000000</td>\n",
       "      <td>1.000000</td>\n",
       "      <td>1.000000</td>\n",
       "      <td>1.000000</td>\n",
       "    </tr>\n",
       "    <tr>\n",
       "      <th>max</th>\n",
       "      <td>1985.000000</td>\n",
       "      <td>1.000000</td>\n",
       "      <td>1.000000</td>\n",
       "      <td>1.000000</td>\n",
       "      <td>1.000000</td>\n",
       "      <td>1.000000</td>\n",
       "      <td>1.000000</td>\n",
       "      <td>1.000000</td>\n",
       "      <td>1.000000</td>\n",
       "      <td>1.000000</td>\n",
       "      <td>...</td>\n",
       "      <td>1.000000</td>\n",
       "      <td>1.000000</td>\n",
       "      <td>1.000000</td>\n",
       "      <td>1.000000</td>\n",
       "      <td>1.000000</td>\n",
       "      <td>4.000000</td>\n",
       "      <td>1.000000</td>\n",
       "      <td>1.000000</td>\n",
       "      <td>1.000000</td>\n",
       "      <td>1.000000</td>\n",
       "    </tr>\n",
       "  </tbody>\n",
       "</table>\n",
       "<p>8 rows × 25 columns</p>\n",
       "</div>"
      ],
      "text/plain": [
       "       CASE_NO_PATIENT'S           A1           A2           A3           A4  \\\n",
       "count        1985.000000  1985.000000  1985.000000  1985.000000  1985.000000   \n",
       "mean          993.000000     0.299244     0.238287     0.213098     0.272040   \n",
       "std           573.164462     0.458042     0.426143     0.409600     0.445123   \n",
       "min             1.000000     0.000000     0.000000     0.000000     0.000000   \n",
       "25%           497.000000     0.000000     0.000000     0.000000     0.000000   \n",
       "50%           993.000000     0.000000     0.000000     0.000000     0.000000   \n",
       "75%          1489.000000     1.000000     0.000000     0.000000     1.000000   \n",
       "max          1985.000000     1.000000     1.000000     1.000000     1.000000   \n",
       "\n",
       "                A5           A6           A7           A8           A9  ...  \\\n",
       "count  1985.000000  1985.000000  1985.000000  1985.000000  1985.000000  ...   \n",
       "mean      0.278589     0.306297     0.345088     0.243829     0.259950  ...   \n",
       "std       0.448418     0.461071     0.475517     0.429499     0.438717  ...   \n",
       "min       0.000000     0.000000     0.000000     0.000000     0.000000  ...   \n",
       "25%       0.000000     0.000000     0.000000     0.000000     0.000000  ...   \n",
       "50%       0.000000     0.000000     0.000000     0.000000     0.000000  ...   \n",
       "75%       1.000000     1.000000     1.000000     0.000000     1.000000  ...   \n",
       "max       1.000000     1.000000     1.000000     1.000000     1.000000  ...   \n",
       "\n",
       "       Learning disorder  Genetic_Disorders   Depression  \\\n",
       "count        1985.000000        1985.000000  1985.000000   \n",
       "mean            0.541562           0.510327     0.530982   \n",
       "std             0.498395           0.500019     0.499165   \n",
       "min             0.000000           0.000000     0.000000   \n",
       "25%             0.000000           0.000000     0.000000   \n",
       "50%             1.000000           1.000000     1.000000   \n",
       "75%             1.000000           1.000000     1.000000   \n",
       "max             1.000000           1.000000     1.000000   \n",
       "\n",
       "       Global developmental delay/intellectual disability  \\\n",
       "count                                        1985.000000    \n",
       "mean                                            0.530982    \n",
       "std                                             0.499165    \n",
       "min                                             0.000000    \n",
       "25%                                             0.000000    \n",
       "50%                                             1.000000    \n",
       "75%                                             1.000000    \n",
       "max                                             1.000000    \n",
       "\n",
       "       Social/Behavioural Issues  Childhood Autism Rating Scale  \\\n",
       "count                1985.000000                    1985.000000   \n",
       "mean                    0.523929                       1.701763   \n",
       "std                     0.499553                       1.015367   \n",
       "min                     0.000000                       1.000000   \n",
       "25%                     0.000000                       1.000000   \n",
       "50%                     1.000000                       1.000000   \n",
       "75%                     1.000000                       2.000000   \n",
       "max                     1.000000                       4.000000   \n",
       "\n",
       "       Anxiety_disorder     Jaundice  Family_mem_with_ASD   ASD_traits  \n",
       "count       1985.000000  1985.000000          1985.000000  1985.000000  \n",
       "mean           0.529471     0.773804             0.329975     0.541058  \n",
       "std            0.499256     0.418473             0.470322     0.498437  \n",
       "min            0.000000     0.000000             0.000000     0.000000  \n",
       "25%            0.000000     1.000000             0.000000     0.000000  \n",
       "50%            1.000000     1.000000             0.000000     1.000000  \n",
       "75%            1.000000     1.000000             1.000000     1.000000  \n",
       "max            1.000000     1.000000             1.000000     1.000000  \n",
       "\n",
       "[8 rows x 25 columns]"
      ]
     },
     "execution_count": 269,
     "metadata": {},
     "output_type": "execute_result"
    }
   ],
   "source": [
    "df.describe()"
   ]
  },
  {
   "cell_type": "code",
   "execution_count": 271,
   "id": "1f4859d7-cd01-4648-9892-76b3ba9671ae",
   "metadata": {},
   "outputs": [],
   "source": [
    "df.to_csv(os.path.join(Path, '02 Data', 'Prepared Data', 'cleaned_dataset.csv'), index=False)"
   ]
  },
  {
   "cell_type": "code",
   "execution_count": null,
   "id": "3acaa0ba-99b3-4499-82ea-393cd2f18ec2",
   "metadata": {},
   "outputs": [],
   "source": []
  },
  {
   "cell_type": "code",
   "execution_count": null,
   "id": "a6d9be57-5225-4971-8559-891fff2bb4bc",
   "metadata": {},
   "outputs": [],
   "source": []
  }
 ],
 "metadata": {
  "kernelspec": {
   "display_name": "Python [conda env:base] *",
   "language": "python",
   "name": "conda-base-py"
  },
  "language_info": {
   "codemirror_mode": {
    "name": "ipython",
    "version": 3
   },
   "file_extension": ".py",
   "mimetype": "text/x-python",
   "name": "python",
   "nbconvert_exporter": "python",
   "pygments_lexer": "ipython3",
   "version": "3.12.7"
  }
 },
 "nbformat": 4,
 "nbformat_minor": 5
}
