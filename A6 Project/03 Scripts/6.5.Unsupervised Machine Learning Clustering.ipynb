{
 "cells": [
  {
   "cell_type": "markdown",
   "id": "8565094c-f12d-4a6b-b707-5a0fadb8eb24",
   "metadata": {},
   "source": [
    "### Importing Libraries "
   ]
  },
  {
   "cell_type": "code",
   "execution_count": 2,
   "id": "11c8be69-4c06-470a-be6d-bb3d83c2f696",
   "metadata": {},
   "outputs": [],
   "source": [
    "import pandas as pd\n",
    "import numpy as np\n",
    "import seaborn as sns\n",
    "import matplotlib\n",
    "import matplotlib.pyplot as plt\n",
    "import os\n",
    "import sklearn\n",
    "from sklearn.cluster import KMeans # Here is where you import the k-means algorithm from scikit-learn.\n",
    "import pylab as pl # PyLab is a convenience module that bulk imports matplotlib."
   ]
  },
  {
   "cell_type": "code",
   "execution_count": 3,
   "id": "42970c11-dc6c-455c-a7c3-6c523d9b3198",
   "metadata": {},
   "outputs": [],
   "source": [
    "# This option ensures the graphs you create are displayed in your notebook without the need to \"call\" them specifically.\n",
    "\n",
    "%matplotlib inline"
   ]
  },
  {
   "cell_type": "markdown",
   "id": "d3218d1d-dd0f-4185-abd1-21ef5126d1c4",
   "metadata": {},
   "source": [
    "### Importing Data"
   ]
  },
  {
   "cell_type": "code",
   "execution_count": 4,
   "id": "4f3002ec-f34d-4aff-9964-8b124d7ed6f1",
   "metadata": {},
   "outputs": [],
   "source": [
    "# Path\n",
    "path= r\"C:\\Users\\nabar\\OneDrive\\Documents\\A6 Project\"\n",
    "# Dataframe\n",
    "df=pd.read_csv(os.path.join(path, '02 Data', 'Prepared Data', 'cleaned_dataset.csv'))"
   ]
  },
  {
   "cell_type": "markdown",
   "id": "6b2ebf19-d56d-4497-8645-64afdb92bbe2",
   "metadata": {},
   "source": [
    "### Prep Data"
   ]
  },
  {
   "cell_type": "code",
   "execution_count": 5,
   "id": "7397a18e-b5d5-4f72-b990-f09aa8fae77a",
   "metadata": {},
   "outputs": [
    {
     "data": {
      "text/plain": [
       "(1985, 28)"
      ]
     },
     "execution_count": 5,
     "metadata": {},
     "output_type": "execute_result"
    }
   ],
   "source": [
    "df.shape"
   ]
  },
  {
   "cell_type": "code",
   "execution_count": 6,
   "id": "e19df18f-fa94-401a-a7a3-0f799240d24b",
   "metadata": {},
   "outputs": [
    {
     "data": {
      "text/plain": [
       "Index(['CASE_NO_PATIENT'S', 'A1', 'A2', 'A3', 'A4', 'A5', 'A6', 'A7', 'A8',\n",
       "       'A9', 'A10_Autism_Spectrum_Quotient', 'Social_Responsiveness_Scale',\n",
       "       'Age_Years', 'Qchat_10_Score', 'Speech Delay/Language Disorder',\n",
       "       'Learning disorder', 'Genetic_Disorders', 'Depression',\n",
       "       'Global developmental delay/intellectual disability',\n",
       "       'Social/Behavioural Issues', 'Childhood Autism Rating Scale',\n",
       "       'Anxiety_disorder', 'Sex', 'Ethnicity', 'Jaundice',\n",
       "       'Family_mem_with_ASD', 'Who_completed_the_test', 'ASD_traits'],\n",
       "      dtype='object')"
      ]
     },
     "execution_count": 6,
     "metadata": {},
     "output_type": "execute_result"
    }
   ],
   "source": [
    "df.columns"
   ]
  },
  {
   "cell_type": "code",
   "execution_count": 7,
   "id": "cb520068-89c3-428a-81bf-a2ea1eb86f7f",
   "metadata": {},
   "outputs": [
    {
     "name": "stdout",
     "output_type": "stream",
     "text": [
      "<class 'pandas.core.frame.DataFrame'>\n",
      "RangeIndex: 1985 entries, 0 to 1984\n",
      "Data columns (total 28 columns):\n",
      " #   Column                                              Non-Null Count  Dtype  \n",
      "---  ------                                              --------------  -----  \n",
      " 0   CASE_NO_PATIENT'S                                   1985 non-null   int64  \n",
      " 1   A1                                                  1985 non-null   int64  \n",
      " 2   A2                                                  1985 non-null   int64  \n",
      " 3   A3                                                  1985 non-null   int64  \n",
      " 4   A4                                                  1985 non-null   int64  \n",
      " 5   A5                                                  1985 non-null   int64  \n",
      " 6   A6                                                  1985 non-null   int64  \n",
      " 7   A7                                                  1985 non-null   int64  \n",
      " 8   A8                                                  1985 non-null   int64  \n",
      " 9   A9                                                  1985 non-null   int64  \n",
      " 10  A10_Autism_Spectrum_Quotient                        1985 non-null   int64  \n",
      " 11  Social_Responsiveness_Scale                         1976 non-null   float64\n",
      " 12  Age_Years                                           1985 non-null   int64  \n",
      " 13  Qchat_10_Score                                      1985 non-null   float64\n",
      " 14  Speech Delay/Language Disorder                      1985 non-null   int64  \n",
      " 15  Learning disorder                                   1985 non-null   int64  \n",
      " 16  Genetic_Disorders                                   1985 non-null   int64  \n",
      " 17  Depression                                          1985 non-null   int64  \n",
      " 18  Global developmental delay/intellectual disability  1985 non-null   int64  \n",
      " 19  Social/Behavioural Issues                           1985 non-null   int64  \n",
      " 20  Childhood Autism Rating Scale                       1985 non-null   int64  \n",
      " 21  Anxiety_disorder                                    1985 non-null   int64  \n",
      " 22  Sex                                                 1985 non-null   object \n",
      " 23  Ethnicity                                           1985 non-null   object \n",
      " 24  Jaundice                                            1985 non-null   int64  \n",
      " 25  Family_mem_with_ASD                                 1985 non-null   int64  \n",
      " 26  Who_completed_the_test                              1985 non-null   object \n",
      " 27  ASD_traits                                          1985 non-null   int64  \n",
      "dtypes: float64(2), int64(23), object(3)\n",
      "memory usage: 434.3+ KB\n",
      "None\n",
      "   CASE_NO_PATIENT'S  A1  A2  A3  A4  A5  A6  A7  A8  A9  ...  \\\n",
      "0                  1   0   0   0   0   0   0   1   1   0  ...   \n",
      "1                  2   1   1   0   0   0   1   1   0   0  ...   \n",
      "2                  3   1   0   0   0   0   0   1   1   0  ...   \n",
      "3                  4   1   1   1   1   1   1   1   1   1  ...   \n",
      "4                  5   1   1   0   1   1   1   1   1   1  ...   \n",
      "\n",
      "   Global developmental delay/intellectual disability  \\\n",
      "0                                                  1    \n",
      "1                                                  1    \n",
      "2                                                  1    \n",
      "3                                                  1    \n",
      "4                                                  1    \n",
      "\n",
      "   Social/Behavioural Issues  Childhood Autism Rating Scale  Anxiety_disorder  \\\n",
      "0                          1                              1                 1   \n",
      "1                          1                              2                 1   \n",
      "2                          1                              4                 1   \n",
      "3                          1                              2                 1   \n",
      "4                          1                              1                 1   \n",
      "\n",
      "   Sex       Ethnicity  Jaundice  Family_mem_with_ASD  Who_completed_the_test  \\\n",
      "0    F  middle eastern         1                    0           Family Member   \n",
      "1    M  White European         1                    0           Family Member   \n",
      "2    M  Middle Eastern         1                    0           Family Member   \n",
      "3    M        Hispanic         0                    0           Family Member   \n",
      "4    F  White European         0                    0           Family Member   \n",
      "\n",
      "   ASD_traits  \n",
      "0           0  \n",
      "1           1  \n",
      "2           1  \n",
      "3           1  \n",
      "4           1  \n",
      "\n",
      "[5 rows x 28 columns]\n"
     ]
    }
   ],
   "source": [
    "print(df.info())  # Get an overview of columns, data types, and missing values\n",
    "print(df.head())  # Preview the first few rows"
   ]
  },
  {
   "cell_type": "code",
   "execution_count": 8,
   "id": "21ce7cf7-adea-492a-8ed4-2d8512a2f51d",
   "metadata": {},
   "outputs": [],
   "source": [
    "df_numeric = df.select_dtypes(include=[np.number])  # Keep only numerical columns"
   ]
  },
  {
   "cell_type": "code",
   "execution_count": 9,
   "id": "ea6950b9-700a-4e37-8255-1954996c630f",
   "metadata": {},
   "outputs": [],
   "source": [
    "df_numeric.fillna(df_numeric.mean(), inplace=True)"
   ]
  },
  {
   "cell_type": "code",
   "execution_count": 10,
   "id": "87adcd84-c027-4ce8-8d87-240b98c28ceb",
   "metadata": {},
   "outputs": [],
   "source": [
    "from sklearn.preprocessing import StandardScaler\n",
    "scaler = StandardScaler()\n",
    "df_scaled = scaler.fit_transform(df_numeric)"
   ]
  },
  {
   "cell_type": "markdown",
   "id": "53b0be3e-bf0e-49bb-b1d7-5688e315747e",
   "metadata": {},
   "source": [
    "### Elbow Method Implementation"
   ]
  },
  {
   "cell_type": "code",
   "execution_count": 11,
   "id": "670d1adf-9f27-4c23-8a3d-cd68f9379731",
   "metadata": {},
   "outputs": [],
   "source": [
    "df_cleaned = df_scaled[~np.isnan(df_scaled).any(axis=1)]"
   ]
  },
  {
   "cell_type": "code",
   "execution_count": 12,
   "id": "fed5807d-bc77-4c3d-85c0-8f00e71e57ab",
   "metadata": {},
   "outputs": [],
   "source": [
    "from sklearn.impute import SimpleImputer"
   ]
  },
  {
   "cell_type": "code",
   "execution_count": 13,
   "id": "e8324e3d-7fed-44d4-9e3b-ba5f81298239",
   "metadata": {},
   "outputs": [],
   "source": [
    "imputer = SimpleImputer(strategy='mean')  \n",
    "df_cleaned = imputer.fit_transform(df_scaled)"
   ]
  },
  {
   "cell_type": "code",
   "execution_count": 14,
   "id": "8085c3a4-9352-46f2-bf21-6578299f62f6",
   "metadata": {},
   "outputs": [],
   "source": [
    "import warnings\n",
    "warnings.filterwarnings(\"ignore\", message=\"KMeans is known to have a memory leak\")"
   ]
  },
  {
   "cell_type": "code",
   "execution_count": 15,
   "id": "422216db-9221-4bb0-a26d-65ca161d5b55",
   "metadata": {},
   "outputs": [
    {
     "name": "stdout",
     "output_type": "stream",
     "text": [
      "Cluster\n",
      "1          931\n",
      "0          651\n",
      "2          403\n",
      "Name: count, dtype: int64\n"
     ]
    }
   ],
   "source": [
    "optimal_k = 3  # Set the best k-value based on the elbow method\n",
    "\n",
    "kmeans_final = KMeans(n_clusters=optimal_k, random_state=42)\n",
    "df['Cluster'] = kmeans_final.fit_predict(df_cleaned)\n",
    "\n",
    "# View cluster assignments\n",
    "print(df[['Cluster']].value_counts())"
   ]
  },
  {
   "cell_type": "code",
   "execution_count": 17,
   "id": "12b4bee0-2f9a-4ec2-ba8b-a5dae6ebe6af",
   "metadata": {},
   "outputs": [],
   "source": [
    "import os\n",
    "\n",
    "# Create the directory if it doesn't exist\n",
    "os.makedirs('path/02 Data/Prepared Data', exist_ok=True)\n",
    "\n",
    "# Now save the file in that path\n",
    "df.to_csv('path/02 Data/Prepared Data/clustered_data.csv', index=False)\n"
   ]
  },
  {
   "cell_type": "code",
   "execution_count": 22,
   "id": "c67733bb-da85-4ba8-af41-06a991f62a5a",
   "metadata": {},
   "outputs": [],
   "source": [
    "# Assuming df is your main DataFrame\n",
    "df['Cluster'] = kmeans_final.fit_predict(df_cleaned)\n"
   ]
  },
  {
   "cell_type": "code",
   "execution_count": 23,
   "id": "c2c55a53-d047-4f18-8ecd-a0796e2e26c1",
   "metadata": {},
   "outputs": [],
   "source": [
    "import os\n",
    "os.makedirs('path/02 Data/Prepared Data', exist_ok=True)\n",
    "df.to_csv('path/02 Data/Prepared Data/clustered_data.csv', index=False)\n"
   ]
  },
  {
   "cell_type": "code",
   "execution_count": 24,
   "id": "cd80c412-37b3-4140-b879-f00488bcd6bd",
   "metadata": {},
   "outputs": [
    {
     "name": "stdout",
     "output_type": "stream",
     "text": [
      "C:\\Users\\nabar\\OneDrive\\Documents\\A6 Project\\03 Scripts\n"
     ]
    }
   ],
   "source": [
    "import os\n",
    "print(os.getcwd())\n"
   ]
  },
  {
   "cell_type": "code",
   "execution_count": 25,
   "id": "1dc2165c-ce01-40fb-8cbc-21f547b82484",
   "metadata": {},
   "outputs": [],
   "source": [
    "df.to_csv(r'C:\\Users\\nabar\\OneDrive\\Documents\\A6 Project\\02 Data\\Prepared Data\\clustered_data.csv', index=False)\n"
   ]
  },
  {
   "cell_type": "code",
   "execution_count": null,
   "id": "21abd91f-be1d-40f9-8b0b-bf42f56961e7",
   "metadata": {},
   "outputs": [],
   "source": [
    "import numpy as np\n",
    "import matplotlib.pyplot as plt\n",
    "from sklearn.cluster import KMeans\n",
    "\n",
    "# 1. Define the range for number of clusters\n",
    "num_cl = range(1, 10)\n",
    "\n",
    "# 2. Initialize lists to store models, WCSS, and scores\n",
    "kmeans_models = []\n",
    "wcss = []\n",
    "scores = []\n",
    "\n",
    "# 3. Fit models once per k, collect inertia_ and score()\n",
    "for k in num_cl:\n",
    "    model = KMeans(n_clusters=k, random_state=42)\n",
    "    model.fit(df_cleaned)\n",
    "    kmeans_models.append(model)\n",
    "    wcss.append(model.inertia_)\n",
    "    scores.append(model.score(df_cleaned))\n",
    "\n",
    "# 4. Plot the Elbow Method and Score Evaluation\n",
    "plt.figure(figsize=(12, 5))\n",
    "\n",
    "# Elbow plot\n",
    "plt.subplot(1, 2, 1)\n",
    "plt.plot(num_cl, wcss, marker='o', linestyle='-', color='b')\n",
    "plt.xlabel('Number of Clusters (k)')\n",
    "plt.ylabel('WCSS (Within-Cluster Sum of Squares)')\n",
    "plt.title('Elbow Method')\n",
    "\n",
    "# Score evaluation plot\n",
    "plt.subplot(1, 2, 2)\n",
    "plt.plot(num_cl, scores, marker='s', linestyle='--', color='r')\n",
    "plt.xlabel('Number of Clusters (k)')\n",
    "plt.ylabel('Score (Negative WCSS)')\n",
    "plt.title('Score Evaluation for Cluster Selection')\n",
    "\n",
    "plt.tight_layout()\n",
    "plt.show()"
   ]
  },
  {
   "cell_type": "code",
   "execution_count": null,
   "id": "4874fe08-bf41-4ef9-b521-042975579dcd",
   "metadata": {},
   "outputs": [],
   "source": [
    "import warnings\n",
    "warnings.filterwarnings(\"ignore\", category=UserWarning)"
   ]
  },
  {
   "cell_type": "code",
   "execution_count": null,
   "id": "83476f4d-43e0-4b58-932d-bc0309e3d460",
   "metadata": {},
   "outputs": [],
   "source": [
    "df.groupby('Cluster')[numeric_cols].mean().T"
   ]
  },
  {
   "cell_type": "code",
   "execution_count": null,
   "id": "9a58ce62-7f78-4d9d-86ae-ac8ed926d918",
   "metadata": {},
   "outputs": [],
   "source": [
    "# Selecting a subset of numerical columns for visualization\n",
    "selected_columns = ['A1', 'A2', 'A3', 'Qchat_10_Score', 'ASD_traits', 'Cluster']  # Modify based on dataset\n",
    "df_subset = df[selected_columns]\n",
    "\n",
    "# Create pairwise scatterplots with cluster coloring\n",
    "sns.pairplot(df_subset, hue='Cluster', palette='viridis')\n",
    "plt.show()"
   ]
  },
  {
   "cell_type": "code",
   "execution_count": null,
   "id": "25d73b48-eebc-41bc-a88a-0b2ce4037e71",
   "metadata": {},
   "outputs": [],
   "source": [
    "import matplotlib.pyplot as plt\n",
    "import seaborn as sns\n",
    "\n",
    "plt.figure(figsize=(18, 5))\n",
    "\n",
    "# 1. Qchat_10_Score vs Childhood Autism Rating Scale\n",
    "plt.subplot(1, 3, 1)\n",
    "sns.scatterplot(\n",
    "    x=df['Qchat_10_Score'],\n",
    "    y=df['Childhood Autism Rating Scale'],\n",
    "    hue=df['Cluster'],\n",
    "    palette='viridis'\n",
    ")\n",
    "plt.title('Qchat vs CARS')\n",
    "plt.xlabel('Qchat_10_Score')\n",
    "plt.ylabel('CARS')\n",
    "\n",
    "# 2. ASD_traits vs Qchat_10_Score\n",
    "plt.subplot(1, 3, 2)\n",
    "sns.scatterplot(\n",
    "    x=df['ASD_traits'],\n",
    "    y=df['Qchat_10_Score'],\n",
    "    hue=df['Cluster'],\n",
    "    palette='viridis'\n",
    ")\n",
    "plt.title('ASD Traits vs Qchat')\n",
    "plt.xlabel('ASD_traits')\n",
    "plt.ylabel('Qchat_10_Score')\n",
    "\n",
    "# 3. ASD_traits vs Childhood Autism Rating Scale\n",
    "plt.subplot(1, 3, 3)\n",
    "sns.scatterplot(\n",
    "    x=df['ASD_traits'],\n",
    "    y=df['Childhood Autism Rating Scale'],\n",
    "    hue=df['Cluster'],\n",
    "    palette='viridis'\n",
    ")\n",
    "plt.title('ASD Traits vs CARS')\n",
    "plt.xlabel('ASD_traits')\n",
    "plt.ylabel('CARS')\n",
    "\n",
    "plt.tight_layout()\n",
    "plt.show()"
   ]
  },
  {
   "cell_type": "markdown",
   "id": "152a8e6b-d7e9-4593-843f-f787b81c33dd",
   "metadata": {},
   "source": [
    "### Plot 1: **Qchat vs CARS**\n",
    "- **X-axis**: Qchat_10_Score (a quick ASD screening tool)\n",
    "- **Y-axis**: Childhood Autism Rating Scale (CARS, a deeper clinical tool)\n",
    "\n",
    "**Interpretation**:  \n",
    "- **Cluster 0** sits higher on both axes → these individuals tend to have elevated scores on both early screening and clinical evaluation, suggesting strong ASD indicators.\n",
    "- **Cluster 1** huddles in the bottom-left corner → low scores on both Qchat and CARS, likely neurotypical cases.\n",
    "- **Cluster 2** is mostly low on Qchat but slightly higher on CARS → could represent mixed or subclinical patterns, where clinical traits show despite a low screening score.\n",
    "\n",
    "---\n",
    "\n",
    "### Plot 2: **ASD Traits vs Qchat**\n",
    "- **X-axis**: ASD_traits (your binary or probabilistic ASD classification)\n",
    "- **Y-axis**: Qchat_10_Score\n",
    "\n",
    "**Interpretation**:  \n",
    "- **Cluster 0** clumps at **ASD_traits = 1** and **Qchat > 6**, showing strong screening alignment.\n",
    "- **Cluster 1** mostly hangs around **ASD_traits = 0** and low Qchat scores.\n",
    "- **Cluster 2** spreads across low trait values but is a bit messy—this may capture borderline or noisy cases, suggesting Qchat doesn’t always align neatly with trait inference.\n",
    "\n",
    "---\n",
    "\n",
    "### Plot 3: **ASD Traits vs - Childhood Autism Rating Scale**\n",
    "- Similar to Plot 2 but replacing Qchat with CARS.\n",
    "\n",
    "**Interpretation**:  \n",
    "- **Cluster 0** again shows a strong positive relationship: **high ASD traits → high CARS scores**.\n",
    "- **Cluster 2** is interesting—it stays low on traits but is somewhat elevated on CARS. This might indicate under-detection in the trait labeling or overlap with non-ASD conditions that still score high on CARS.\n",
    "- **Cluster 1** is consistently low on both.\n",
    "\n",
    "---\n",
    "\n",
    "These visualizations show how **unsupervised clusters align with actual ASD screening scores**—even without feeding those scores directly into the clustering. That’s a strong validation of the model.\n",
    "\n",
    "\n"
   ]
  },
  {
   "cell_type": "markdown",
   "id": "7d17ad2e-8357-4978-81dd-61faf4121f15",
   "metadata": {},
   "source": [
    "### Cluster Analysis Interpretation Using Core ASD Features:\n",
    "To validate the unsupervised clusters, we visualized how each group aligns with three key ASD-related variables:\n",
    "1. Qchat_10_Score vs Childhood Autism Rating Scale\n",
    "This comparison revealed a strong linear pattern within Cluster 0, which had high scores on both metrics—indicating individuals with consistent ASD indicators. Cluster 1 remained low on both, suggesting neurotypical profiles, while Cluster 2 hovered in between, showing modest CARS scores but low Qchat results.\n",
    "2. ASD Traits vs Qchat_10_Score\n",
    "Cluster 0 displayed perfect alignment between high ASD traits and high Qchat scores. Clusters 1 and 2, however, included individuals with low or zero ASD traits but varying Qchat scores—highlighting possible inconsistencies between screening flags and final labels.\n",
    "3. ASD Traits vs Childhood Autism Rating Scale\n",
    "This pairing showed that CARS scores were elevated for some cases even when ASD_traits = 0 (notably in Cluster 2), suggesting that clinical assessments may capture subtler traits not flagged in trait classification alone. Cluster 1 was again positioned at the lower-left, consistent with minimal behavioral indicators.\n",
    "\n",
    "* The clustering structure aligns meaningfully with validated screening tools—especially in identifying one clear group (Cluster 0) with strong ASD characteristics. Cluster 2 may represent borderline or subclinical profiles worth further attention.\n"
   ]
  },
  {
   "cell_type": "markdown",
   "id": "6eca7fa6-fe8f-4638-ad6b-e39a1194a0b5",
   "metadata": {},
   "source": [
    "### Future Applications of Clustering Results:\n",
    "\n",
    "The unsupervised clusters identified in this analysis can be used in several key ways:\n",
    "\n",
    "- **Model Feature**: Use cluster labels as an input feature in supervised learning tasks (e.g., predicting ASD diagnosis or treatment outcomes).\n",
    "- **Targeted Profiling**: Tailor screening or interventions by identifying distinct subgroups with shared characteristics.\n",
    "- **Improved Screening Strategy**: Use clusters to uncover borderline or overlooked profiles that standard tools may miss.\n",
    "- **Dimensionality Reduction Input**: Leverage PCA components for improved model performance and noise reduction.\n",
    "- **Stakeholder Communication**: Present clusters visually to support decision-making in clinical or educational settings."
   ]
  },
  {
   "cell_type": "code",
   "execution_count": null,
   "id": "708cea6f-8488-44ea-8d26-053da61b248d",
   "metadata": {},
   "outputs": [],
   "source": [
    "from sklearn.decomposition import PCA\n",
    "# Reduce features to 2 principal components\n",
    "pca = PCA(n_components=2)\n",
    "df_pca = pca.fit_transform(df_cleaned)\n",
    "\n",
    "# Create scatterplot with PCA-transformed features\n",
    "sns.scatterplot(x=df_pca[:,0], y=df_pca[:,1], hue=df['Cluster'], palette='viridis')\n",
    "plt.xlabel('Principal Component 1')\n",
    "plt.ylabel('Principal Component 2')\n",
    "plt.title('PCA-Based Cluster Visualization')\n",
    "plt.show()"
   ]
  },
  {
   "cell_type": "code",
   "execution_count": null,
   "id": "36f1b5a0-7ec4-4f4f-9b63-bab818f193c2",
   "metadata": {},
   "outputs": [],
   "source": [
    "# If your cluster assignments came from a separate array (e.g., df_cleaned)\n",
    "df['Cluster'] = kmeans_final.labels_  # Ensure you're assigning a flat 1D array\n",
    "\n",
    "# Now retry selecting numeric columns and grouping\n",
    "numeric_cols = df.select_dtypes(include=[np.number]).columns.tolist()\n",
    "cluster_means = df[numeric_cols].groupby(df['Cluster']).mean()\n",
    "print(cluster_means)"
   ]
  },
  {
   "cell_type": "markdown",
   "id": "9ef6eb5e-597d-43b7-8a0a-aa6c31ba9e78",
   "metadata": {},
   "source": [
    "### Cluster Interpretation Summary:\n",
    "##### Plot:\n",
    "That scatter plot is a 2D map of the data created by Principal Component Analysis (PCA). Each point represents one person (or case) in the dataset. Since the dataset has many features (like A1 to A10, Qchat score, etc.), PCA compresses all of those into two new axes:\n",
    "- PC1 (x-axis): The direction across the data that explains the most variation.\n",
    "- PC2 (y-axis): The direction that explains the next most variation, at a right angle to PC1.\n",
    "In other words, this plot is showing the “shape” of the data from a bird's eye view, using just the two most important ingredients.\n",
    "\n",
    "\n",
    "##### What the Colors Mean:\n",
    "\n",
    "The colors represent clusters, based on the k-means results:\n",
    "- Each cluster groups people who had similar patterns across all those original variables.\n",
    "- So when see tight blobs of the same color, it means those data points (people) are grouped together based on how similar they are across the dataset.\n",
    "When those blobs are spread out from one another, that suggests the clusters are well-separated, which is exactly what we want in a good clustering solution.\n",
    "\n",
    "\n",
    "##### Cluster Interpretation:\n",
    "\n",
    "After applying k-means clustering with k = 3, the resulting clusters show clear distinctions:\n",
    "- Cluster 0 represents individuals with consistent indicators of ASD traits and developmental concerns.\n",
    "- Cluster 1 appears to be a neurotypical group with minimal clinical symptoms.\n",
    "- Cluster 2 seems to fall in between—potentially reflecting subclinical or mixed presentations, with higher rates of comorbidities but fewer ASD traits.\n",
    "\n",
    "### Proposals for Future Steps:\n",
    "##### Future Applications of Clustering Results:\n",
    "- Refinement of diagnostic pathways: The presence of distinct subgroups may help prioritize more tailored screening or follow-up assessments.\n",
    "- Feature selection for supervised learning: Now that we see which features contribute to meaningful cluster separation, we can use them to train classifiers or predictive models.\n",
    "- Targeted intervention strategies: The clusters suggest that different subpopulations may benefit from tailored support strategies—particularly the mixed-symptom group in Cluster 2.\n",
    "- Data validation: Future work could compare clusters to clinical labels (if available) to validate these findings or guide semi-supervised approaches.\n",
    "\n",
    "\n"
   ]
  },
  {
   "cell_type": "code",
   "execution_count": null,
   "id": "cb65224e-d34c-4b8f-b2f7-b60aa1147fa1",
   "metadata": {},
   "outputs": [],
   "source": []
  }
 ],
 "metadata": {
  "kernelspec": {
   "display_name": "Python [conda env:base] *",
   "language": "python",
   "name": "conda-base-py"
  },
  "language_info": {
   "codemirror_mode": {
    "name": "ipython",
    "version": 3
   },
   "file_extension": ".py",
   "mimetype": "text/x-python",
   "name": "python",
   "nbconvert_exporter": "python",
   "pygments_lexer": "ipython3",
   "version": "3.12.7"
  }
 },
 "nbformat": 4,
 "nbformat_minor": 5
}
